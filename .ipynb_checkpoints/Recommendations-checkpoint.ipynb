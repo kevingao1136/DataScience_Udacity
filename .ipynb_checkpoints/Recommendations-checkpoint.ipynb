{
 "cells": [
  {
   "cell_type": "markdown",
   "metadata": {},
   "source": [
    "# Recommendations"
   ]
  },
  {
   "cell_type": "markdown",
   "metadata": {},
   "source": [
    "## Types of Recommendations\n",
    "\n",
    "1. Knowledge Based Recommendations\n",
    "2. Collaborative Filtering Based Recommendations\n",
    "    - Model Based\n",
    "    - Neighborhood Based\n",
    "3. Content Based Recommendations"
   ]
  },
  {
   "cell_type": "markdown",
   "metadata": {},
   "source": [
    "## Similarity Metrics\n",
    "1. Pearson's correlation coefficient\n",
    "2. Spearman's correlation coefficient\n",
    "3. Kendall's Tau\n",
    "4. Euclidean Distance\n",
    "5. Manhattan Distance"
   ]
  },
  {
   "cell_type": "markdown",
   "metadata": {},
   "source": [
    "## Business Cases For Recommendations\n",
    "\n",
    "1. Relevance\n",
    "2. Novelty\n",
    "3. Serendipity\n",
    "4. Increased Diversity"
   ]
  },
  {
   "cell_type": "code",
   "execution_count": null,
   "metadata": {},
   "outputs": [],
   "source": []
  }
 ],
 "metadata": {
  "kernelspec": {
   "display_name": "Python 3",
   "language": "python",
   "name": "python3"
  },
  "language_info": {
   "codemirror_mode": {
    "name": "ipython",
    "version": 3
   },
   "file_extension": ".py",
   "mimetype": "text/x-python",
   "name": "python",
   "nbconvert_exporter": "python",
   "pygments_lexer": "ipython3",
   "version": "3.7.4"
  }
 },
 "nbformat": 4,
 "nbformat_minor": 2
}
