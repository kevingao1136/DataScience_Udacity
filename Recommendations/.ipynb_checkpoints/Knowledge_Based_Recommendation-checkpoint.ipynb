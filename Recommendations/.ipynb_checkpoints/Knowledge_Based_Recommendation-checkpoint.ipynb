{
 "cells": [
  {
   "cell_type": "markdown",
   "metadata": {},
   "source": [
    "# Recommendations with MovieTweetings: Most Popular Recommendation"
   ]
  },
  {
   "cell_type": "code",
   "execution_count": 1,
   "metadata": {},
   "outputs": [],
   "source": [
    "import numpy as np\n",
    "import pandas as pd\n",
    "import matplotlib.pyplot as plt\n",
    "\n",
    "# Read in the datasets\n",
    "movies = pd.read_csv('movies_clean.csv')\n",
    "reviews = pd.read_csv('reviews_clean.csv')"
   ]
  },
  {
   "cell_type": "markdown",
   "metadata": {},
   "source": [
    "#### 1. How To Find The Most Popular Movies\n",
    "\n",
    "For this notebook, we have a single task.  The task is that no matter the user, we need to provide a list of the recommendations based on simply the most popular items.\n",
    "\n",
    "For this task, we will consider what is \"most popular\" based on the following criteria:\n",
    "\n",
    "* A movie with the highest average rating is considered best\n",
    "* With ties, movies that have more ratings are better\n",
    "* A movie must have a minimum of 5 ratings to be considered among the best movies\n",
    "* If movies are tied in their average rating and number of ratings, the ranking is determined by the movie that is the most recent rating\n",
    "\n",
    "With these criteria, the goal for this notebook is to take a **user_id** and provide back the **n_top** recommendations.  Use the function below as the scaffolding that will be used for all the future recommendations as well."
   ]
  },
  {
   "cell_type": "code",
   "execution_count": 2,
   "metadata": {},
   "outputs": [
    {
     "data": {
      "text/html": [
       "<div>\n",
       "<style scoped>\n",
       "    .dataframe tbody tr th:only-of-type {\n",
       "        vertical-align: middle;\n",
       "    }\n",
       "\n",
       "    .dataframe tbody tr th {\n",
       "        vertical-align: top;\n",
       "    }\n",
       "\n",
       "    .dataframe thead th {\n",
       "        text-align: right;\n",
       "    }\n",
       "</style>\n",
       "<table border=\"1\" class=\"dataframe\">\n",
       "  <thead>\n",
       "    <tr style=\"text-align: right;\">\n",
       "      <th></th>\n",
       "      <th>user_id</th>\n",
       "      <th>movie_id</th>\n",
       "      <th>rating</th>\n",
       "      <th>timestamp</th>\n",
       "      <th>date</th>\n",
       "    </tr>\n",
       "  </thead>\n",
       "  <tbody>\n",
       "    <tr>\n",
       "      <th>0</th>\n",
       "      <td>1</td>\n",
       "      <td>114508</td>\n",
       "      <td>8</td>\n",
       "      <td>1381006850</td>\n",
       "      <td>2013-10-05 21:00:50</td>\n",
       "    </tr>\n",
       "    <tr>\n",
       "      <th>1</th>\n",
       "      <td>2</td>\n",
       "      <td>358273</td>\n",
       "      <td>9</td>\n",
       "      <td>1579057827</td>\n",
       "      <td>2020-01-15 03:10:27</td>\n",
       "    </tr>\n",
       "    <tr>\n",
       "      <th>2</th>\n",
       "      <td>2</td>\n",
       "      <td>10039344</td>\n",
       "      <td>5</td>\n",
       "      <td>1578603053</td>\n",
       "      <td>2020-01-09 20:50:53</td>\n",
       "    </tr>\n",
       "    <tr>\n",
       "      <th>3</th>\n",
       "      <td>2</td>\n",
       "      <td>6751668</td>\n",
       "      <td>9</td>\n",
       "      <td>1578955697</td>\n",
       "      <td>2020-01-13 22:48:17</td>\n",
       "    </tr>\n",
       "    <tr>\n",
       "      <th>4</th>\n",
       "      <td>2</td>\n",
       "      <td>7131622</td>\n",
       "      <td>8</td>\n",
       "      <td>1579559244</td>\n",
       "      <td>2020-01-20 22:27:24</td>\n",
       "    </tr>\n",
       "    <tr>\n",
       "      <th>...</th>\n",
       "      <td>...</td>\n",
       "      <td>...</td>\n",
       "      <td>...</td>\n",
       "      <td>...</td>\n",
       "      <td>...</td>\n",
       "    </tr>\n",
       "    <tr>\n",
       "      <th>856173</th>\n",
       "      <td>66652</td>\n",
       "      <td>1843866</td>\n",
       "      <td>10</td>\n",
       "      <td>1396584788</td>\n",
       "      <td>2014-04-04 04:13:08</td>\n",
       "    </tr>\n",
       "    <tr>\n",
       "      <th>856174</th>\n",
       "      <td>66652</td>\n",
       "      <td>1951264</td>\n",
       "      <td>10</td>\n",
       "      <td>1385101263</td>\n",
       "      <td>2013-11-22 06:21:03</td>\n",
       "    </tr>\n",
       "    <tr>\n",
       "      <th>856175</th>\n",
       "      <td>66652</td>\n",
       "      <td>2267998</td>\n",
       "      <td>8</td>\n",
       "      <td>1415578263</td>\n",
       "      <td>2014-11-10 00:11:03</td>\n",
       "    </tr>\n",
       "    <tr>\n",
       "      <th>856176</th>\n",
       "      <td>66652</td>\n",
       "      <td>2582846</td>\n",
       "      <td>10</td>\n",
       "      <td>1402022562</td>\n",
       "      <td>2014-06-06 02:42:42</td>\n",
       "    </tr>\n",
       "    <tr>\n",
       "      <th>856177</th>\n",
       "      <td>66653</td>\n",
       "      <td>1623205</td>\n",
       "      <td>6</td>\n",
       "      <td>1362832655</td>\n",
       "      <td>2013-03-09 12:37:35</td>\n",
       "    </tr>\n",
       "  </tbody>\n",
       "</table>\n",
       "<p>856178 rows × 5 columns</p>\n",
       "</div>"
      ],
      "text/plain": [
       "        user_id  movie_id  rating   timestamp                 date\n",
       "0             1    114508       8  1381006850  2013-10-05 21:00:50\n",
       "1             2    358273       9  1579057827  2020-01-15 03:10:27\n",
       "2             2  10039344       5  1578603053  2020-01-09 20:50:53\n",
       "3             2   6751668       9  1578955697  2020-01-13 22:48:17\n",
       "4             2   7131622       8  1579559244  2020-01-20 22:27:24\n",
       "...         ...       ...     ...         ...                  ...\n",
       "856173    66652   1843866      10  1396584788  2014-04-04 04:13:08\n",
       "856174    66652   1951264      10  1385101263  2013-11-22 06:21:03\n",
       "856175    66652   2267998       8  1415578263  2014-11-10 00:11:03\n",
       "856176    66652   2582846      10  1402022562  2014-06-06 02:42:42\n",
       "856177    66653   1623205       6  1362832655  2013-03-09 12:37:35\n",
       "\n",
       "[856178 rows x 5 columns]"
      ]
     },
     "execution_count": 2,
     "metadata": {},
     "output_type": "execute_result"
    }
   ],
   "source": [
    "reviews"
   ]
  },
  {
   "cell_type": "code",
   "execution_count": 42,
   "metadata": {},
   "outputs": [],
   "source": [
    "ranked_rating = reviews.groupby('movie_id').agg({'rating':['mean','count'], 'date':['max']}).reset_index()\n",
    "ranked_rating.columns = ['movie_id','avg_rating','num_rating','most_recent_review']\n",
    "ranked_rating = ranked_rating[ranked_rating.num_rating >= 5]\n",
    "ranked_rating.sort_values(['avg_rating','num_rating','most_recent_review'],ascending=False,inplace=True)"
   ]
  },
  {
   "cell_type": "code",
   "execution_count": 115,
   "metadata": {},
   "outputs": [],
   "source": [
    "def popular_recommendations(user_id, n_top):\n",
    "    '''\n",
    "    INPUT:\n",
    "    user_id - the user_id of the individual you are making recommendations for\n",
    "    n_top - an integer of the number recommendations you want back\n",
    "    OUTPUT:\n",
    "    top_movies - a list of the n_top recommended movies by movie title in order best to worst\n",
    "    '''\n",
    "    # Do stuff\n",
    "    id_list = ranked_rating.movie_id[:n_top].values\n",
    "    top_movies = list(movies[movies.movie_id.isin(id_list)].movie)\n",
    "    \n",
    "    \n",
    "    return top_movies # a list of the n_top movies as recommended"
   ]
  },
  {
   "cell_type": "code",
   "execution_count": 116,
   "metadata": {},
   "outputs": [
    {
     "data": {
      "text/plain": [
       "['Sátántangó (1994)',\n",
       " 'Romeo Juliet (2009)',\n",
       " 'Foster (2011)',\n",
       " 'Third Contact (2011)',\n",
       " 'Crawl Bitch Crawl (2012)',\n",
       " 'Crystal Lake Memories: The Complete History of Friday the 13th (2013)',\n",
       " \"Quiet Riot: Well Now You're Here, There's No Way Back (2014)\",\n",
       " 'CM101MMXI Fundamentals (2013)',\n",
       " 'Selam (2013)',\n",
       " 'Birlesen Gonuller (2014)',\n",
       " 'Make Like a Dog (2015)',\n",
       " 'MSG 2 the Messenger (2015)',\n",
       " 'Pandorica (2016)',\n",
       " 'Avengers: Age of Ultron Parody (2015)',\n",
       " 'Be Somebody (2016)',\n",
       " 'Let There Be Light (2017)',\n",
       " 'Five Minutes (2017)',\n",
       " 'Agnelli (2017)',\n",
       " 'Kitbull (2019)',\n",
       " 'Chasing Happiness (2019)']"
      ]
     },
     "execution_count": 116,
     "metadata": {},
     "output_type": "execute_result"
    }
   ],
   "source": [
    "popular_recommendations(1, 20)"
   ]
  },
  {
   "cell_type": "code",
   "execution_count": null,
   "metadata": {},
   "outputs": [],
   "source": []
  }
 ],
 "metadata": {
  "kernelspec": {
   "display_name": "Python 3",
   "language": "python",
   "name": "python3"
  },
  "language_info": {
   "codemirror_mode": {
    "name": "ipython",
    "version": 3
   },
   "file_extension": ".py",
   "mimetype": "text/x-python",
   "name": "python",
   "nbconvert_exporter": "python",
   "pygments_lexer": "ipython3",
   "version": "3.7.4"
  }
 },
 "nbformat": 4,
 "nbformat_minor": 2
}
