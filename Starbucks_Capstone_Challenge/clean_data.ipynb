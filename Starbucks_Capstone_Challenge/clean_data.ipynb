{
 "cells": [
  {
   "cell_type": "markdown",
   "metadata": {},
   "source": [
    "# Starbucks Capstone Challenge\n",
    "## Data Cleaning"
   ]
  },
  {
   "cell_type": "code",
   "execution_count": 1,
   "metadata": {},
   "outputs": [],
   "source": [
    "# Import libraries\n",
    "import numpy as np\n",
    "import pandas as pd"
   ]
  },
  {
   "cell_type": "markdown",
   "metadata": {},
   "source": [
    "# Datasets\n",
    "The data is contained in three files:\n",
    "\n",
    "* portfolio.json - containing offer ids and meta data about each offer (duration, type, etc.)\n",
    "* profile.json - demographic data for each customer\n",
    "* transcript.json - records for transactions, offers received, offers viewed, and offers completed\n",
    "\n",
    "Here is the schema and explanation of each variable in the files:\n",
    "\n",
    "**offers (portfolio.json)**\n",
    "* id (string) - offer id\n",
    "* offer_type (string) - type of offer ie BOGO, discount, informational\n",
    "* difficulty (int) - minimum required spend to complete an offer\n",
    "* reward (int) - reward given for completing an offer\n",
    "* duration (int) - time for offer to be open, in days\n",
    "* channels (list of strings)\n",
    "\n",
    "**customers (profile.json)**\n",
    "* age (int) - age of the customer \n",
    "* became_member_on (int) - date when customer created an app account\n",
    "* gender (str) - gender of the customer (note some entries contain 'O' for other rather than M or F)\n",
    "* id (str) - customer id\n",
    "* income (float) - customer's income\n",
    "\n",
    "**events (transcript.json)**\n",
    "* event (str) - record description (ie transaction, offer received, offer viewed, etc.)\n",
    "* person (str) - customer id\n",
    "* time (int) - time in hours since start of test. The data begins at time t=0\n",
    "* value - (dict of strings) - either an offer id or transaction amount depending on the record"
   ]
  },
  {
   "cell_type": "code",
   "execution_count": 2,
   "metadata": {},
   "outputs": [
    {
     "output_type": "stream",
     "name": "stdout",
     "text": "offers has 10 rows\ncustomers has 17000 rows\nevents has 306534 rows\n"
    }
   ],
   "source": [
    "# read in the json files\n",
    "offers = pd.read_json('raw_data/portfolio.json', orient='records', lines=True)\n",
    "customers = pd.read_json('raw_data/profile.json', orient='records', lines=True)\n",
    "events = pd.read_json('raw_data/transcript.json', orient='records', lines=True)\n",
    "\n",
    "# change column names and print df shape\n",
    "offers.columns = ['reward','channels','min_spend','expire_days','offer_type','id']\n",
    "customers.columns = ['gender','age','id','became_member_on','income']\n",
    "events.columns = ['customer_id','event','value','hour']\n",
    "print(f'offers has {len(offers)} rows')\n",
    "print(f'customers has {len(customers)} rows')\n",
    "print(f'events has {len(events)} rows')"
   ]
  },
  {
   "cell_type": "markdown",
   "metadata": {},
   "source": [
    "### Remove 6 customers from all datasets who didn't receive offers"
   ]
  },
  {
   "cell_type": "code",
   "execution_count": 3,
   "metadata": {},
   "outputs": [
    {
     "output_type": "stream",
     "name": "stdout",
     "text": "Removed 6 customers from all datasets who did not get any offers\noffers has 10 rows\ncustomers has 16994 rows\nevents has 306514 rows\n"
    }
   ],
   "source": [
    "customer_funnel = events.groupby(['customer_id','event']).event.count().to_frame().rename({'event':'count'},axis=1).reset_index()\n",
    "customer_funnel = pd.pivot(customer_funnel, index='customer_id', columns='event', values='count')\n",
    "deleted_customers = customer_funnel[customer_funnel['offer received'].isnull()].index\n",
    "\n",
    "events = events[~events.customer_id.isin(deleted_customers)]\n",
    "customers = customers[~customers.id.isin(deleted_customers)]\n",
    "events.reset_index(inplace=True, drop=True)\n",
    "customers.reset_index(inplace=True, drop=True)\n",
    "\n",
    "print(f'Removed {len(deleted_customers)} customers from all datasets who did not get any offers')\n",
    "print(f'offers has {len(offers)} rows')\n",
    "print(f'customers has {len(customers)} rows')\n",
    "print(f'events has {len(events)} rows')"
   ]
  },
  {
   "cell_type": "markdown",
   "metadata": {},
   "source": [
    "### Clean the events data"
   ]
  },
  {
   "cell_type": "code",
   "execution_count": 4,
   "metadata": {},
   "outputs": [
    {
     "output_type": "stream",
     "name": "stdout",
     "text": "offers has 10 rows\ncustomers has 16994 rows\nevents has 306514 rows\n"
    },
    {
     "output_type": "execute_result",
     "data": {
      "text/plain": "                        customer_id           event  hour  \\\n0  78afa995795e4d85b5d9ceeca43f5fef  offer received     0   \n1  a03223e636434f42ac4c3df47e8bac43  offer received     0   \n2  e2127556f4f64592b11af22de27a7932  offer received     0   \n3  8ec6ce2a7e7949b1bf142def7d0e0586  offer received     0   \n4  68617ca6246f4fbc85e91a2a49552598  offer received     0   \n\n                           offer_id  amount_spent  reward_received  \n0  9b98b8c7a33c4b65b9aebfe6a799e6d9           NaN              NaN  \n1  0b1e1539f2cc45b7b9fa7c272da2e1d7           NaN              NaN  \n2  2906b810c7d4411798c6938adc9daaa5           NaN              NaN  \n3  fafdcd668e3743c1bb461111dcafc2a4           NaN              NaN  \n4  4d5c57ea9a6940dd891ad53e9dbe8da0           NaN              NaN  ",
      "text/html": "<div>\n<style scoped>\n    .dataframe tbody tr th:only-of-type {\n        vertical-align: middle;\n    }\n\n    .dataframe tbody tr th {\n        vertical-align: top;\n    }\n\n    .dataframe thead th {\n        text-align: right;\n    }\n</style>\n<table border=\"1\" class=\"dataframe\">\n  <thead>\n    <tr style=\"text-align: right;\">\n      <th></th>\n      <th>customer_id</th>\n      <th>event</th>\n      <th>hour</th>\n      <th>offer_id</th>\n      <th>amount_spent</th>\n      <th>reward_received</th>\n    </tr>\n  </thead>\n  <tbody>\n    <tr>\n      <th>0</th>\n      <td>78afa995795e4d85b5d9ceeca43f5fef</td>\n      <td>offer received</td>\n      <td>0</td>\n      <td>9b98b8c7a33c4b65b9aebfe6a799e6d9</td>\n      <td>NaN</td>\n      <td>NaN</td>\n    </tr>\n    <tr>\n      <th>1</th>\n      <td>a03223e636434f42ac4c3df47e8bac43</td>\n      <td>offer received</td>\n      <td>0</td>\n      <td>0b1e1539f2cc45b7b9fa7c272da2e1d7</td>\n      <td>NaN</td>\n      <td>NaN</td>\n    </tr>\n    <tr>\n      <th>2</th>\n      <td>e2127556f4f64592b11af22de27a7932</td>\n      <td>offer received</td>\n      <td>0</td>\n      <td>2906b810c7d4411798c6938adc9daaa5</td>\n      <td>NaN</td>\n      <td>NaN</td>\n    </tr>\n    <tr>\n      <th>3</th>\n      <td>8ec6ce2a7e7949b1bf142def7d0e0586</td>\n      <td>offer received</td>\n      <td>0</td>\n      <td>fafdcd668e3743c1bb461111dcafc2a4</td>\n      <td>NaN</td>\n      <td>NaN</td>\n    </tr>\n    <tr>\n      <th>4</th>\n      <td>68617ca6246f4fbc85e91a2a49552598</td>\n      <td>offer received</td>\n      <td>0</td>\n      <td>4d5c57ea9a6940dd891ad53e9dbe8da0</td>\n      <td>NaN</td>\n      <td>NaN</td>\n    </tr>\n  </tbody>\n</table>\n</div>"
     },
     "metadata": {},
     "execution_count": 4
    }
   ],
   "source": [
    "# Clean the events data\n",
    "for dic in events.value:\n",
    "    if list(dic.keys()) == ['offer id']:\n",
    "        dic['offer_id'] = dic.pop('offer id')\n",
    "\n",
    "# Concat and transform the events data\n",
    "temp = pd.DataFrame(events.value.to_list())\n",
    "events = pd.concat([events,temp],axis=1)\n",
    "events.rename(columns={'reward':'reward_received', 'amount':'amount_spent'},inplace=True)\n",
    "events.drop('value',axis=1,inplace=True)\n",
    "print(f'offers has {len(offers)} rows')\n",
    "print(f'customers has {len(customers)} rows')\n",
    "print(f'events has {len(events)} rows')\n",
    "events.head()"
   ]
  },
  {
   "cell_type": "markdown",
   "metadata": {},
   "source": [
    "### Create new feature in offers to capture most features in the data\n",
    "- Format: offer_type + min_spend + expire_days + reward + channels"
   ]
  },
  {
   "cell_type": "code",
   "execution_count": 5,
   "metadata": {},
   "outputs": [
    {
     "output_type": "execute_result",
     "data": {
      "text/plain": "      offer_type                                id  \\\n0           bogo  ae264e3637204a6fb9bb56bc8210ddfd   \n1           bogo  4d5c57ea9a6940dd891ad53e9dbe8da0   \n2  informational  3f207df678b143eea3cee63160fa8bed   \n3           bogo  9b98b8c7a33c4b65b9aebfe6a799e6d9   \n4       discount  0b1e1539f2cc45b7b9fa7c272da2e1d7   \n5       discount  2298d6c36e964ae4a3e7e9706d1fb8c2   \n6       discount  fafdcd668e3743c1bb461111dcafc2a4   \n7  informational  5a8bc65990b245e5a138643cd4eb9837   \n8           bogo  f19421c1d4aa40978ebb69ca19b0e20d   \n9       discount  2906b810c7d4411798c6938adc9daaa5   \n\n                                      offer  \n0          bogo_10_7_10_email_mobile_social  \n1      bogo_10_5_10_web_email_mobile_social  \n2      informational_0_4_0_web_email_mobile  \n3               bogo_5_7_5_web_email_mobile  \n4                discount_20_10_5_web_email  \n5    discount_7_7_3_web_email_mobile_social  \n6  discount_10_10_2_web_email_mobile_social  \n7   informational_0_3_0_email_mobile_social  \n8        bogo_5_5_5_web_email_mobile_social  \n9          discount_10_7_2_web_email_mobile  ",
      "text/html": "<div>\n<style scoped>\n    .dataframe tbody tr th:only-of-type {\n        vertical-align: middle;\n    }\n\n    .dataframe tbody tr th {\n        vertical-align: top;\n    }\n\n    .dataframe thead th {\n        text-align: right;\n    }\n</style>\n<table border=\"1\" class=\"dataframe\">\n  <thead>\n    <tr style=\"text-align: right;\">\n      <th></th>\n      <th>offer_type</th>\n      <th>id</th>\n      <th>offer</th>\n    </tr>\n  </thead>\n  <tbody>\n    <tr>\n      <th>0</th>\n      <td>bogo</td>\n      <td>ae264e3637204a6fb9bb56bc8210ddfd</td>\n      <td>bogo_10_7_10_email_mobile_social</td>\n    </tr>\n    <tr>\n      <th>1</th>\n      <td>bogo</td>\n      <td>4d5c57ea9a6940dd891ad53e9dbe8da0</td>\n      <td>bogo_10_5_10_web_email_mobile_social</td>\n    </tr>\n    <tr>\n      <th>2</th>\n      <td>informational</td>\n      <td>3f207df678b143eea3cee63160fa8bed</td>\n      <td>informational_0_4_0_web_email_mobile</td>\n    </tr>\n    <tr>\n      <th>3</th>\n      <td>bogo</td>\n      <td>9b98b8c7a33c4b65b9aebfe6a799e6d9</td>\n      <td>bogo_5_7_5_web_email_mobile</td>\n    </tr>\n    <tr>\n      <th>4</th>\n      <td>discount</td>\n      <td>0b1e1539f2cc45b7b9fa7c272da2e1d7</td>\n      <td>discount_20_10_5_web_email</td>\n    </tr>\n    <tr>\n      <th>5</th>\n      <td>discount</td>\n      <td>2298d6c36e964ae4a3e7e9706d1fb8c2</td>\n      <td>discount_7_7_3_web_email_mobile_social</td>\n    </tr>\n    <tr>\n      <th>6</th>\n      <td>discount</td>\n      <td>fafdcd668e3743c1bb461111dcafc2a4</td>\n      <td>discount_10_10_2_web_email_mobile_social</td>\n    </tr>\n    <tr>\n      <th>7</th>\n      <td>informational</td>\n      <td>5a8bc65990b245e5a138643cd4eb9837</td>\n      <td>informational_0_3_0_email_mobile_social</td>\n    </tr>\n    <tr>\n      <th>8</th>\n      <td>bogo</td>\n      <td>f19421c1d4aa40978ebb69ca19b0e20d</td>\n      <td>bogo_5_5_5_web_email_mobile_social</td>\n    </tr>\n    <tr>\n      <th>9</th>\n      <td>discount</td>\n      <td>2906b810c7d4411798c6938adc9daaa5</td>\n      <td>discount_10_7_2_web_email_mobile</td>\n    </tr>\n  </tbody>\n</table>\n</div>"
     },
     "metadata": {},
     "execution_count": 5
    }
   ],
   "source": [
    "offers.channels = offers.channels.apply(lambda x: '_'.join(x))\n",
    "offers['offer'] = offers.offer_type + '_' + offers.min_spend.astype(str) + '_' + offers.expire_days.astype(str) + '_' + offers.reward.astype(str) + '_' + offers.channels\n",
    "offers.drop(['reward','min_spend','expire_days','channels'],axis=1,inplace=True)\n",
    "offers"
   ]
  },
  {
   "cell_type": "markdown",
   "metadata": {},
   "source": [
    "### Clean customers data\n",
    "- Change anomoly in age to null - when age = 118\n",
    "- Create new feature in customers - membership_days"
   ]
  },
  {
   "cell_type": "code",
   "execution_count": 6,
   "metadata": {},
   "outputs": [
    {
     "output_type": "stream",
     "name": "stdout",
     "text": "offers has 10 rows\ncustomers has 16994 rows\nevents has 306514 rows\n"
    }
   ],
   "source": [
    "customers.age = customers.age.replace({118:np.nan})\n",
    "\n",
    "# Create new feature for customer data - membership_days\n",
    "# customers.became_member_on = pd.to_datetime(customers.became_member_on, format='%Y%m%d')\n",
    "# most_recent = max(customers.became_member_on)\n",
    "# customers['membership_days'] = customers.became_member_on.apply(lambda x: most_recent - x).dt.days\n",
    "# customers['year_of_membership'] = customers.became_member_on.dt.year\n",
    "# customers.drop('became_member_on',axis=1,inplace=True)\n",
    "\n",
    "print(f'offers has {len(offers)} rows')\n",
    "print(f'customers has {len(customers)} rows')\n",
    "print(f'events has {len(events)} rows')"
   ]
  },
  {
   "cell_type": "markdown",
   "metadata": {},
   "source": [
    "### Export cleaned data into the cleaned_data folder"
   ]
  },
  {
   "cell_type": "code",
   "execution_count": 7,
   "metadata": {},
   "outputs": [],
   "source": [
    "offers.to_csv('cleaned_data/offers.csv',index=False)\n",
    "customers.to_csv('cleaned_data/customers.csv',index=False)\n",
    "events.to_csv('cleaned_data/events.csv',index=False)"
   ]
  },
  {
   "cell_type": "code",
   "execution_count": null,
   "metadata": {},
   "outputs": [],
   "source": []
  }
 ],
 "metadata": {
  "kernelspec": {
   "display_name": "Python 3",
   "language": "python",
   "name": "python3"
  },
  "language_info": {
   "codemirror_mode": {
    "name": "ipython",
    "version": 3
   },
   "file_extension": ".py",
   "mimetype": "text/x-python",
   "name": "python",
   "nbconvert_exporter": "python",
   "pygments_lexer": "ipython3",
   "version": "3.7.4-final"
  }
 },
 "nbformat": 4,
 "nbformat_minor": 2
}