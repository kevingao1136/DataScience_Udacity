{
 "cells": [
  {
   "cell_type": "code",
   "execution_count": 28,
   "metadata": {},
   "outputs": [],
   "source": [
    "# Import libraries\n",
    "import numpy as np\n",
    "import pandas as pd\n",
    "import seaborn as sns\n",
    "import joblib\n",
    "import matplotlib.pyplot as plt\n",
    "from sklearn.linear_model import LogisticRegression\n",
    "from sklearn.ensemble import RandomForestClassifier, AdaBoostClassifier\n",
    "from sklearn.model_selection import train_test_split, cross_val_score, GridSearchCV\n",
    "from sklearn.metrics import confusion_matrix, classification_report, f1_score, accuracy_score, plot_roc_curve\n",
    "from sklearn.preprocessing import MultiLabelBinarizer\n",
    "%matplotlib inline\n",
    "%config InlineBackend.figure_formats = ['retina']\n",
    "plt.style.use('seaborn-whitegrid')"
   ]
  },
  {
   "cell_type": "code",
   "execution_count": 40,
   "metadata": {},
   "outputs": [
    {
     "output_type": "stream",
     "name": "stdout",
     "text": "offers has 10 rows\ncustomers has 17000 rows\nevents has 306534 rows\n"
    }
   ],
   "source": [
    "# read in the json files\n",
    "offers = pd.read_json('raw_data/portfolio.json', orient='records', lines=True)\n",
    "customers = pd.read_json('raw_data/profile.json', orient='records', lines=True)\n",
    "events = pd.read_json('raw_data/transcript.json', orient='records', lines=True)\n",
    "\n",
    "# change column names and print df shape\n",
    "offers.columns = ['reward','channels','min_spend','expire_days','offer_type','id']\n",
    "customers.columns = ['gender','age','id','became_member_on','income']\n",
    "events.columns = ['customer_id','event','value','hour']\n",
    "print(f'offers has {len(offers)} rows')\n",
    "print(f'customers has {len(customers)} rows')\n",
    "print(f'events has {len(events)} rows')"
   ]
  },
  {
   "cell_type": "code",
   "execution_count": 41,
   "metadata": {},
   "outputs": [
    {
     "output_type": "stream",
     "name": "stdout",
     "text": "Removed 6 customers from all datasets who did not get any offers\noffers has 10 rows\ncustomers has 16994 rows\nevents has 306514 rows\n"
    }
   ],
   "source": [
    "customer_funnel = events.groupby(['customer_id','event']).event.count().to_frame().rename({'event':'count'},axis=1).reset_index()\n",
    "customer_funnel = pd.pivot(customer_funnel, index='customer_id', columns='event', values='count')\n",
    "deleted_customers = customer_funnel[customer_funnel['offer received'].isnull()].index\n",
    "events = events[~events.customer_id.isin(deleted_customers)]\n",
    "customers = customers[~customers.id.isin(deleted_customers)]\n",
    "events.reset_index(inplace=True)\n",
    "customers.reset_index(inplace=True)\n",
    "print(f'Removed {len(deleted_customers)} customers from all datasets who did not get any offers')\n",
    "print(f'offers has {len(offers)} rows')\n",
    "print(f'customers has {len(customers)} rows')\n",
    "print(f'events has {len(events)} rows')"
   ]
  },
  {
   "cell_type": "code",
   "execution_count": 42,
   "metadata": {},
   "outputs": [
    {
     "output_type": "stream",
     "name": "stdout",
     "text": "offers has 10 rows\ncustomers has 16994 rows\nevents has 306514 rows\n"
    },
    {
     "output_type": "execute_result",
     "data": {
      "text/plain": "   index                       customer_id           event  hour  \\\n0      0  78afa995795e4d85b5d9ceeca43f5fef  offer received     0   \n1      1  a03223e636434f42ac4c3df47e8bac43  offer received     0   \n2      2  e2127556f4f64592b11af22de27a7932  offer received     0   \n3      3  8ec6ce2a7e7949b1bf142def7d0e0586  offer received     0   \n4      4  68617ca6246f4fbc85e91a2a49552598  offer received     0   \n\n                           offer_id  amount_spent  reward_received  \n0  9b98b8c7a33c4b65b9aebfe6a799e6d9           NaN              NaN  \n1  0b1e1539f2cc45b7b9fa7c272da2e1d7           NaN              NaN  \n2  2906b810c7d4411798c6938adc9daaa5           NaN              NaN  \n3  fafdcd668e3743c1bb461111dcafc2a4           NaN              NaN  \n4  4d5c57ea9a6940dd891ad53e9dbe8da0           NaN              NaN  ",
      "text/html": "<div>\n<style scoped>\n    .dataframe tbody tr th:only-of-type {\n        vertical-align: middle;\n    }\n\n    .dataframe tbody tr th {\n        vertical-align: top;\n    }\n\n    .dataframe thead th {\n        text-align: right;\n    }\n</style>\n<table border=\"1\" class=\"dataframe\">\n  <thead>\n    <tr style=\"text-align: right;\">\n      <th></th>\n      <th>index</th>\n      <th>customer_id</th>\n      <th>event</th>\n      <th>hour</th>\n      <th>offer_id</th>\n      <th>amount_spent</th>\n      <th>reward_received</th>\n    </tr>\n  </thead>\n  <tbody>\n    <tr>\n      <th>0</th>\n      <td>0</td>\n      <td>78afa995795e4d85b5d9ceeca43f5fef</td>\n      <td>offer received</td>\n      <td>0</td>\n      <td>9b98b8c7a33c4b65b9aebfe6a799e6d9</td>\n      <td>NaN</td>\n      <td>NaN</td>\n    </tr>\n    <tr>\n      <th>1</th>\n      <td>1</td>\n      <td>a03223e636434f42ac4c3df47e8bac43</td>\n      <td>offer received</td>\n      <td>0</td>\n      <td>0b1e1539f2cc45b7b9fa7c272da2e1d7</td>\n      <td>NaN</td>\n      <td>NaN</td>\n    </tr>\n    <tr>\n      <th>2</th>\n      <td>2</td>\n      <td>e2127556f4f64592b11af22de27a7932</td>\n      <td>offer received</td>\n      <td>0</td>\n      <td>2906b810c7d4411798c6938adc9daaa5</td>\n      <td>NaN</td>\n      <td>NaN</td>\n    </tr>\n    <tr>\n      <th>3</th>\n      <td>3</td>\n      <td>8ec6ce2a7e7949b1bf142def7d0e0586</td>\n      <td>offer received</td>\n      <td>0</td>\n      <td>fafdcd668e3743c1bb461111dcafc2a4</td>\n      <td>NaN</td>\n      <td>NaN</td>\n    </tr>\n    <tr>\n      <th>4</th>\n      <td>4</td>\n      <td>68617ca6246f4fbc85e91a2a49552598</td>\n      <td>offer received</td>\n      <td>0</td>\n      <td>4d5c57ea9a6940dd891ad53e9dbe8da0</td>\n      <td>NaN</td>\n      <td>NaN</td>\n    </tr>\n  </tbody>\n</table>\n</div>"
     },
     "metadata": {},
     "execution_count": 42
    }
   ],
   "source": [
    "# Clean the events data\n",
    "for dic in events.value:\n",
    "    if list(dic.keys()) == ['offer id']:\n",
    "        dic['offer_id'] = dic.pop('offer id')\n",
    "\n",
    "# Concat and transform the events data\n",
    "temp = pd.DataFrame(events.value.to_list())\n",
    "events = pd.concat([events,temp],axis=1)\n",
    "events.rename(columns={'reward':'reward_received', 'amount':'amount_spent'},inplace=True)\n",
    "events.drop('value',axis=1,inplace=True)\n",
    "print(f'offers has {len(offers)} rows')\n",
    "print(f'customers has {len(customers)} rows')\n",
    "print(f'events has {len(events)} rows')\n",
    "events.head()"
   ]
  },
  {
   "cell_type": "code",
   "execution_count": 43,
   "metadata": {},
   "outputs": [],
   "source": [
    "offers.to_csv('cleaned_data/offers.csv',index=False)\n",
    "customers.to_csv('cleaned_data/customers.csv',index=False)\n",
    "events.to_csv('cleaned_data/events.csv',index=False)"
   ]
  },
  {
   "cell_type": "code",
   "execution_count": null,
   "metadata": {},
   "outputs": [],
   "source": []
  }
 ],
 "metadata": {
  "language_info": {
   "codemirror_mode": {
    "name": "ipython",
    "version": 3
   },
   "file_extension": ".py",
   "mimetype": "text/x-python",
   "name": "python",
   "nbconvert_exporter": "python",
   "pygments_lexer": "ipython3",
   "version": "3.7.4-final"
  },
  "orig_nbformat": 2,
  "kernelspec": {
   "name": "python3",
   "display_name": "Python 3"
  }
 },
 "nbformat": 4,
 "nbformat_minor": 2
}