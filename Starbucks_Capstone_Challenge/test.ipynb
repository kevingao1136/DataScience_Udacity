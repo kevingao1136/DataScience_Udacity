{
 "cells": [
  {
   "cell_type": "code",
   "execution_count": 1,
   "metadata": {},
   "outputs": [],
   "source": [
    "# Import libraries\n",
    "import numpy as np\n",
    "import pandas as pd\n",
    "import seaborn as sns\n",
    "import joblib\n",
    "import matplotlib.pyplot as plt\n",
    "from sklearn.linear_model import LogisticRegression\n",
    "from sklearn.ensemble import RandomForestClassifier, AdaBoostClassifier\n",
    "from sklearn.model_selection import train_test_split, cross_val_score, GridSearchCV\n",
    "from sklearn.metrics import confusion_matrix, classification_report, f1_score, accuracy_score, plot_roc_curve\n",
    "from sklearn.preprocessing import MultiLabelBinarizer\n",
    "%matplotlib inline\n",
    "%config InlineBackend.figure_formats = ['retina']\n",
    "plt.style.use('seaborn-whitegrid')"
   ]
  },
  {
   "cell_type": "code",
   "execution_count": 2,
   "metadata": {},
   "outputs": [
    {
     "output_type": "stream",
     "name": "stdout",
     "text": "offers has 10 rows\ncustomers has 17000 rows\nevents has 306534 rows\n"
    }
   ],
   "source": [
    "# read in the json files\n",
    "offers = pd.read_json('data/portfolio.json', orient='records', lines=True)\n",
    "customers = pd.read_json('data/profile.json', orient='records', lines=True)\n",
    "events = pd.read_json('data/transcript.json', orient='records', lines=True)\n",
    "\n",
    "# change column names and print df shape\n",
    "offers.columns = ['reward','channels','min_spend','expire_days','offer_type','id']\n",
    "customers.columns = ['gender','age','id','became_member_on','income']\n",
    "events.columns = ['customer_id','event','value','hours_from_test']\n",
    "print(f'offers has {len(offers)} rows')\n",
    "print(f'customers has {len(customers)} rows')\n",
    "print(f'events has {len(events)} rows')"
   ]
  },
  {
   "cell_type": "code",
   "execution_count": 3,
   "metadata": {},
   "outputs": [
    {
     "output_type": "execute_result",
     "data": {
      "text/plain": "                        customer_id           event  hours_from_test  \\\n0  78afa995795e4d85b5d9ceeca43f5fef  offer received                0   \n1  a03223e636434f42ac4c3df47e8bac43  offer received                0   \n2  e2127556f4f64592b11af22de27a7932  offer received                0   \n3  8ec6ce2a7e7949b1bf142def7d0e0586  offer received                0   \n4  68617ca6246f4fbc85e91a2a49552598  offer received                0   \n\n                           offer_id  amount_spent  reward_received  \n0  9b98b8c7a33c4b65b9aebfe6a799e6d9           NaN              NaN  \n1  0b1e1539f2cc45b7b9fa7c272da2e1d7           NaN              NaN  \n2  2906b810c7d4411798c6938adc9daaa5           NaN              NaN  \n3  fafdcd668e3743c1bb461111dcafc2a4           NaN              NaN  \n4  4d5c57ea9a6940dd891ad53e9dbe8da0           NaN              NaN  ",
      "text/html": "<div>\n<style scoped>\n    .dataframe tbody tr th:only-of-type {\n        vertical-align: middle;\n    }\n\n    .dataframe tbody tr th {\n        vertical-align: top;\n    }\n\n    .dataframe thead th {\n        text-align: right;\n    }\n</style>\n<table border=\"1\" class=\"dataframe\">\n  <thead>\n    <tr style=\"text-align: right;\">\n      <th></th>\n      <th>customer_id</th>\n      <th>event</th>\n      <th>hours_from_test</th>\n      <th>offer_id</th>\n      <th>amount_spent</th>\n      <th>reward_received</th>\n    </tr>\n  </thead>\n  <tbody>\n    <tr>\n      <th>0</th>\n      <td>78afa995795e4d85b5d9ceeca43f5fef</td>\n      <td>offer received</td>\n      <td>0</td>\n      <td>9b98b8c7a33c4b65b9aebfe6a799e6d9</td>\n      <td>NaN</td>\n      <td>NaN</td>\n    </tr>\n    <tr>\n      <th>1</th>\n      <td>a03223e636434f42ac4c3df47e8bac43</td>\n      <td>offer received</td>\n      <td>0</td>\n      <td>0b1e1539f2cc45b7b9fa7c272da2e1d7</td>\n      <td>NaN</td>\n      <td>NaN</td>\n    </tr>\n    <tr>\n      <th>2</th>\n      <td>e2127556f4f64592b11af22de27a7932</td>\n      <td>offer received</td>\n      <td>0</td>\n      <td>2906b810c7d4411798c6938adc9daaa5</td>\n      <td>NaN</td>\n      <td>NaN</td>\n    </tr>\n    <tr>\n      <th>3</th>\n      <td>8ec6ce2a7e7949b1bf142def7d0e0586</td>\n      <td>offer received</td>\n      <td>0</td>\n      <td>fafdcd668e3743c1bb461111dcafc2a4</td>\n      <td>NaN</td>\n      <td>NaN</td>\n    </tr>\n    <tr>\n      <th>4</th>\n      <td>68617ca6246f4fbc85e91a2a49552598</td>\n      <td>offer received</td>\n      <td>0</td>\n      <td>4d5c57ea9a6940dd891ad53e9dbe8da0</td>\n      <td>NaN</td>\n      <td>NaN</td>\n    </tr>\n  </tbody>\n</table>\n</div>"
     },
     "metadata": {},
     "execution_count": 3
    }
   ],
   "source": [
    "# Clean the events data\n",
    "for dic in events.value:\n",
    "    if list(dic.keys()) == ['offer id']:\n",
    "        dic['offer_id'] = dic.pop('offer id')\n",
    "\n",
    "# Concat and transform the events data\n",
    "temp = pd.DataFrame(events.value.to_list())\n",
    "events = pd.concat([events,temp],axis=1)\n",
    "events.rename(columns={'reward':'reward_received', 'amount':'amount_spent'},inplace=True)\n",
    "events.drop('value',axis=1,inplace=True)\n",
    "events.head()"
   ]
  },
  {
   "cell_type": "markdown",
   "metadata": {},
   "source": [
    "### 6 customers did not received offers"
   ]
  },
  {
   "cell_type": "code",
   "execution_count": 60,
   "metadata": {},
   "outputs": [
    {
     "output_type": "execute_result",
     "data": {
      "text/plain": "event                             offer completed  offer received  \\\ncustomer_id                                                         \n0009655768c64bdeb2e877511632db8f              3.0             5.0   \n00116118485d4dfda04fdbaba9a87b5c              NaN             2.0   \n0011e0d4e6b944f998e987f904e8c1e5              3.0             5.0   \n0020c2b971eb4e9188eac86d93036a77              3.0             5.0   \n0020ccbbb6d84e358d3414a3ff76cffd              3.0             4.0   \n\nevent                             offer viewed  transaction  \ncustomer_id                                                  \n0009655768c64bdeb2e877511632db8f           4.0          8.0  \n00116118485d4dfda04fdbaba9a87b5c           2.0          3.0  \n0011e0d4e6b944f998e987f904e8c1e5           5.0          5.0  \n0020c2b971eb4e9188eac86d93036a77           3.0          8.0  \n0020ccbbb6d84e358d3414a3ff76cffd           4.0         12.0  ",
      "text/html": "<div>\n<style scoped>\n    .dataframe tbody tr th:only-of-type {\n        vertical-align: middle;\n    }\n\n    .dataframe tbody tr th {\n        vertical-align: top;\n    }\n\n    .dataframe thead th {\n        text-align: right;\n    }\n</style>\n<table border=\"1\" class=\"dataframe\">\n  <thead>\n    <tr style=\"text-align: right;\">\n      <th>event</th>\n      <th>offer completed</th>\n      <th>offer received</th>\n      <th>offer viewed</th>\n      <th>transaction</th>\n    </tr>\n    <tr>\n      <th>customer_id</th>\n      <th></th>\n      <th></th>\n      <th></th>\n      <th></th>\n    </tr>\n  </thead>\n  <tbody>\n    <tr>\n      <th>0009655768c64bdeb2e877511632db8f</th>\n      <td>3.0</td>\n      <td>5.0</td>\n      <td>4.0</td>\n      <td>8.0</td>\n    </tr>\n    <tr>\n      <th>00116118485d4dfda04fdbaba9a87b5c</th>\n      <td>NaN</td>\n      <td>2.0</td>\n      <td>2.0</td>\n      <td>3.0</td>\n    </tr>\n    <tr>\n      <th>0011e0d4e6b944f998e987f904e8c1e5</th>\n      <td>3.0</td>\n      <td>5.0</td>\n      <td>5.0</td>\n      <td>5.0</td>\n    </tr>\n    <tr>\n      <th>0020c2b971eb4e9188eac86d93036a77</th>\n      <td>3.0</td>\n      <td>5.0</td>\n      <td>3.0</td>\n      <td>8.0</td>\n    </tr>\n    <tr>\n      <th>0020ccbbb6d84e358d3414a3ff76cffd</th>\n      <td>3.0</td>\n      <td>4.0</td>\n      <td>4.0</td>\n      <td>12.0</td>\n    </tr>\n  </tbody>\n</table>\n</div>"
     },
     "metadata": {},
     "execution_count": 60
    }
   ],
   "source": [
    "customer_funnel = events.groupby(['customer_id','event']).event.count().to_frame().rename({'event':'count'},axis=1).reset_index()\n",
    "customer_funnel = pd.pivot(customer_funnel, index='customer_id', columns='event', values='count')\n",
    "customer_funnel.head()"
   ]
  },
  {
   "cell_type": "code",
   "execution_count": 61,
   "metadata": {},
   "outputs": [
    {
     "output_type": "execute_result",
     "data": {
      "text/plain": "event                             offer completed  offer received  \\\ncustomer_id                                                         \n12ede229379747bd8d74ccdc20097ca3              NaN             NaN   \n3a4874d8f0ef42b9a1b72294902afea9              NaN             NaN   \nae8111e7e8cd4b60a8d35c42c1110555              NaN             NaN   \nc6e579c6821c41d1a7a6a9cf936e91bb              NaN             NaN   \nda7a7c0dcfcb41a8acc7864a53cf60fb              NaN             NaN   \neb540099db834cf59001f83a4561aef3              NaN             NaN   \n\nevent                             offer viewed  transaction  \ncustomer_id                                                  \n12ede229379747bd8d74ccdc20097ca3           NaN          3.0  \n3a4874d8f0ef42b9a1b72294902afea9           NaN          3.0  \nae8111e7e8cd4b60a8d35c42c1110555           NaN          5.0  \nc6e579c6821c41d1a7a6a9cf936e91bb           NaN          4.0  \nda7a7c0dcfcb41a8acc7864a53cf60fb           NaN          1.0  \neb540099db834cf59001f83a4561aef3           NaN          4.0  ",
      "text/html": "<div>\n<style scoped>\n    .dataframe tbody tr th:only-of-type {\n        vertical-align: middle;\n    }\n\n    .dataframe tbody tr th {\n        vertical-align: top;\n    }\n\n    .dataframe thead th {\n        text-align: right;\n    }\n</style>\n<table border=\"1\" class=\"dataframe\">\n  <thead>\n    <tr style=\"text-align: right;\">\n      <th>event</th>\n      <th>offer completed</th>\n      <th>offer received</th>\n      <th>offer viewed</th>\n      <th>transaction</th>\n    </tr>\n    <tr>\n      <th>customer_id</th>\n      <th></th>\n      <th></th>\n      <th></th>\n      <th></th>\n    </tr>\n  </thead>\n  <tbody>\n    <tr>\n      <th>12ede229379747bd8d74ccdc20097ca3</th>\n      <td>NaN</td>\n      <td>NaN</td>\n      <td>NaN</td>\n      <td>3.0</td>\n    </tr>\n    <tr>\n      <th>3a4874d8f0ef42b9a1b72294902afea9</th>\n      <td>NaN</td>\n      <td>NaN</td>\n      <td>NaN</td>\n      <td>3.0</td>\n    </tr>\n    <tr>\n      <th>ae8111e7e8cd4b60a8d35c42c1110555</th>\n      <td>NaN</td>\n      <td>NaN</td>\n      <td>NaN</td>\n      <td>5.0</td>\n    </tr>\n    <tr>\n      <th>c6e579c6821c41d1a7a6a9cf936e91bb</th>\n      <td>NaN</td>\n      <td>NaN</td>\n      <td>NaN</td>\n      <td>4.0</td>\n    </tr>\n    <tr>\n      <th>da7a7c0dcfcb41a8acc7864a53cf60fb</th>\n      <td>NaN</td>\n      <td>NaN</td>\n      <td>NaN</td>\n      <td>1.0</td>\n    </tr>\n    <tr>\n      <th>eb540099db834cf59001f83a4561aef3</th>\n      <td>NaN</td>\n      <td>NaN</td>\n      <td>NaN</td>\n      <td>4.0</td>\n    </tr>\n  </tbody>\n</table>\n</div>"
     },
     "metadata": {},
     "execution_count": 61
    }
   ],
   "source": [
    "# These six people did not get an offers during the test period\n",
    "# Remove them from all the data\n",
    "customer_funnel[customer_funnel['offer received'].isnull()]"
   ]
  },
  {
   "cell_type": "code",
   "execution_count": 67,
   "metadata": {},
   "outputs": [],
   "source": [
    "deleted_customers = customer_funnel[customer_funnel['offer received'].isnull()].index\n",
    "events = events[~events.customer_id.isin(deleted_customers)]\n",
    "customers = customers[~customers.id.isin(deleted_customers)]"
   ]
  },
  {
   "cell_type": "markdown",
   "metadata": {},
   "source": [
    "### Create a table to record the time a customer received first offer"
   ]
  },
  {
   "cell_type": "code",
   "execution_count": 68,
   "metadata": {},
   "outputs": [],
   "source": [
    "first_offer_time = events.query(\"event == 'offer received'\").groupby('customer_id').hours_from_test.min().to_frame().rename({'hours_from_test':'first_offer_time'},axis=1).reset_index()\n",
    "\n",
    "def get_wave_ids(hours):\n",
    "    '''\n",
    "    input:\n",
    "        hours - hours after start of the test to receive the first offer (0,168,336,408,504,576)\n",
    "    output:\n",
    "        ids - list of customer ids who got their first offers on this time\n",
    "    \n",
    "    '''\n",
    "    ids = list(first_offer_time[first_offer_time.first_offer_time == hours].customer_id)\n",
    "    return ids\n",
    "\n",
    "# wave1_ids = get_wave_ids(0)\n",
    "# wave2_ids = get_wave_ids(168)\n",
    "# wave3_ids = get_wave_ids(336)\n",
    "# wave4_ids = get_wave_ids(408)\n",
    "# wave5_ids = get_wave_ids(504)\n",
    "# wave6_ids = get_wave_ids(576)\n",
    "\n",
    "# assert np.sum([len(wave1_ids), len(wave2_ids), len(wave3_ids), len(wave4_ids), len(wave5_ids), len(wave6_ids)]) + 6 == events.customer_id.nunique()"
   ]
  },
  {
   "cell_type": "markdown",
   "metadata": {},
   "source": [
    "# Create a dataframe with events before customers received their first offer"
   ]
  },
  {
   "cell_type": "code",
   "execution_count": 69,
   "metadata": {},
   "outputs": [],
   "source": [
    "# # Merge offers to events\n",
    "# events_offers = pd.merge(events, offers, how='left', left_on='offer_id', right_on='id').drop('id',axis=1)\n",
    "# events_offers.head()"
   ]
  },
  {
   "cell_type": "code",
   "execution_count": 70,
   "metadata": {},
   "outputs": [],
   "source": [
    "time_of_waves = [0,168,336,408,504,576]"
   ]
  },
  {
   "cell_type": "code",
   "execution_count": 71,
   "metadata": {},
   "outputs": [],
   "source": [
    "def create_pre_post_offer_events():\n",
    "\n",
    "    '''\n",
    "    input:\n",
    "        None\n",
    "    output:\n",
    "        pre_offer_events - customer events before receiving the first offer\n",
    "        post_offer_events - customer events after receiving the first offer\n",
    "    '''\n",
    "\n",
    "    pre_offer_events = pd.DataFrame()\n",
    "    current = pd.DataFrame()\n",
    "\n",
    "    for hour in time_of_waves:\n",
    "        current = events[events.customer_id.isin(get_wave_ids(hour))]\n",
    "        current = current[current.hours_from_test < hour]\n",
    "        pre_offer_events = pd.concat([pre_offer_events, current])\n",
    "\n",
    "    \n",
    "    post_offer_events = pd.DataFrame()\n",
    "    current = pd.DataFrame()\n",
    "\n",
    "    for hour in time_of_waves:\n",
    "        current = events[events.customer_id.isin(get_wave_ids(hour))]\n",
    "        current = current[current.hours_from_test >= hour]\n",
    "        post_offer_events = pd.concat([post_offer_events, current])\n",
    "\n",
    "\n",
    "    # check the quality of data wrangling\n",
    "    assert list(pre_offer_events.event.unique()) == ['transaction']\n",
    "    assert list(post_offer_events.event.unique()) == ['offer received', 'offer viewed', 'transaction', 'offer completed']\n",
    "    assert len(pre_offer_events) + len(post_offer_events) == len(events), [len(pre_offer_events) + len(post_offer_events), len(events)]\n",
    "\n",
    "    return pre_offer_events, post_offer_events"
   ]
  },
  {
   "cell_type": "code",
   "execution_count": 73,
   "metadata": {},
   "outputs": [],
   "source": [
    "pre_offer_events, post_offer_events = create_pre_post_offer_events()"
   ]
  },
  {
   "cell_type": "code",
   "execution_count": 75,
   "metadata": {},
   "outputs": [],
   "source": [
    "# def get_customer_events(customer_id):\n",
    "\n",
    "#     df = events_offers[events_offers.customer_id == customer_id][['customer_id','event','hours_from_test','amount_spent','reward_received','offer_type']]\n",
    "#     return df\n",
    "\n",
    "# get_customer_events(wave5_ids[0])"
   ]
  },
  {
   "cell_type": "code",
   "execution_count": 76,
   "metadata": {},
   "outputs": [
    {
     "output_type": "execute_result",
     "data": {
      "text/plain": "                             customer_id        event  hours_from_test  \\\n12659   54890f68699049c2a04d415abc25e717  transaction                0   \n12849   098d124614df4e4b862d678160b98638  transaction                0   \n12853   98b81a8ffdd14bb986d80673491171a7  transaction                0   \n12914   ad18ad432f5a40c7b8ccce4be4fb530c  transaction                0   \n12994   2372a5dd677842478b5318e4ea525969  transaction                0   \n...                                  ...          ...              ...   \n239184  9a3f45cf29ef428b932492c7a5d6ac52  transaction              552   \n240339  c77659a28bf84aaa95b1ca4bbb2b56d0  transaction              558   \n240818  3cc622f76e464bc1809a71e871579d6c  transaction              558   \n242709  01fe5ec668f241608eb2f7ec374cb1b7  transaction              564   \n244663  6e1d4ac6dc3d4a9788b1b82ea4ae6ebf  transaction              570   \n\n       offer_id  amount_spent  reward_received  \n12659       NaN         13.23              NaN  \n12849       NaN          1.21              NaN  \n12853       NaN          7.40              NaN  \n12914       NaN         17.00              NaN  \n12994       NaN         12.88              NaN  \n...         ...           ...              ...  \n239184      NaN         18.64              NaN  \n240339      NaN          2.42              NaN  \n240818      NaN          9.62              NaN  \n242709      NaN         20.61              NaN  \n244663      NaN          0.43              NaN  \n\n[4787 rows x 6 columns]",
      "text/html": "<div>\n<style scoped>\n    .dataframe tbody tr th:only-of-type {\n        vertical-align: middle;\n    }\n\n    .dataframe tbody tr th {\n        vertical-align: top;\n    }\n\n    .dataframe thead th {\n        text-align: right;\n    }\n</style>\n<table border=\"1\" class=\"dataframe\">\n  <thead>\n    <tr style=\"text-align: right;\">\n      <th></th>\n      <th>customer_id</th>\n      <th>event</th>\n      <th>hours_from_test</th>\n      <th>offer_id</th>\n      <th>amount_spent</th>\n      <th>reward_received</th>\n    </tr>\n  </thead>\n  <tbody>\n    <tr>\n      <th>12659</th>\n      <td>54890f68699049c2a04d415abc25e717</td>\n      <td>transaction</td>\n      <td>0</td>\n      <td>NaN</td>\n      <td>13.23</td>\n      <td>NaN</td>\n    </tr>\n    <tr>\n      <th>12849</th>\n      <td>098d124614df4e4b862d678160b98638</td>\n      <td>transaction</td>\n      <td>0</td>\n      <td>NaN</td>\n      <td>1.21</td>\n      <td>NaN</td>\n    </tr>\n    <tr>\n      <th>12853</th>\n      <td>98b81a8ffdd14bb986d80673491171a7</td>\n      <td>transaction</td>\n      <td>0</td>\n      <td>NaN</td>\n      <td>7.40</td>\n      <td>NaN</td>\n    </tr>\n    <tr>\n      <th>12914</th>\n      <td>ad18ad432f5a40c7b8ccce4be4fb530c</td>\n      <td>transaction</td>\n      <td>0</td>\n      <td>NaN</td>\n      <td>17.00</td>\n      <td>NaN</td>\n    </tr>\n    <tr>\n      <th>12994</th>\n      <td>2372a5dd677842478b5318e4ea525969</td>\n      <td>transaction</td>\n      <td>0</td>\n      <td>NaN</td>\n      <td>12.88</td>\n      <td>NaN</td>\n    </tr>\n    <tr>\n      <th>...</th>\n      <td>...</td>\n      <td>...</td>\n      <td>...</td>\n      <td>...</td>\n      <td>...</td>\n      <td>...</td>\n    </tr>\n    <tr>\n      <th>239184</th>\n      <td>9a3f45cf29ef428b932492c7a5d6ac52</td>\n      <td>transaction</td>\n      <td>552</td>\n      <td>NaN</td>\n      <td>18.64</td>\n      <td>NaN</td>\n    </tr>\n    <tr>\n      <th>240339</th>\n      <td>c77659a28bf84aaa95b1ca4bbb2b56d0</td>\n      <td>transaction</td>\n      <td>558</td>\n      <td>NaN</td>\n      <td>2.42</td>\n      <td>NaN</td>\n    </tr>\n    <tr>\n      <th>240818</th>\n      <td>3cc622f76e464bc1809a71e871579d6c</td>\n      <td>transaction</td>\n      <td>558</td>\n      <td>NaN</td>\n      <td>9.62</td>\n      <td>NaN</td>\n    </tr>\n    <tr>\n      <th>242709</th>\n      <td>01fe5ec668f241608eb2f7ec374cb1b7</td>\n      <td>transaction</td>\n      <td>564</td>\n      <td>NaN</td>\n      <td>20.61</td>\n      <td>NaN</td>\n    </tr>\n    <tr>\n      <th>244663</th>\n      <td>6e1d4ac6dc3d4a9788b1b82ea4ae6ebf</td>\n      <td>transaction</td>\n      <td>570</td>\n      <td>NaN</td>\n      <td>0.43</td>\n      <td>NaN</td>\n    </tr>\n  </tbody>\n</table>\n<p>4787 rows × 6 columns</p>\n</div>"
     },
     "metadata": {},
     "execution_count": 76
    }
   ],
   "source": [
    "pre_offer_events"
   ]
  },
  {
   "cell_type": "code",
   "execution_count": null,
   "metadata": {},
   "outputs": [],
   "source": []
  }
 ],
 "metadata": {
  "language_info": {
   "codemirror_mode": {
    "name": "ipython",
    "version": 3
   },
   "file_extension": ".py",
   "mimetype": "text/x-python",
   "name": "python",
   "nbconvert_exporter": "python",
   "pygments_lexer": "ipython3",
   "version": "3.7.4-final"
  },
  "orig_nbformat": 2,
  "kernelspec": {
   "name": "python3",
   "display_name": "Python 3"
  }
 },
 "nbformat": 4,
 "nbformat_minor": 2
}